{
  "nbformat": 4,
  "nbformat_minor": 0,
  "metadata": {
    "colab": {
      "name": "spike_sorting_network.ipynb",
      "provenance": [],
      "authorship_tag": "ABX9TyMX+hIxZt/qOhGr8w3edd6g",
      "include_colab_link": true
    },
    "kernelspec": {
      "name": "python3",
      "display_name": "Python 3"
    },
    "language_info": {
      "name": "python"
    }
  },
  "cells": [
    {
      "cell_type": "markdown",
      "metadata": {
        "id": "view-in-github",
        "colab_type": "text"
      },
      "source": [
        "<a href=\"https://colab.research.google.com/github/abuzarmahmood/neuRecommend/blob/master/spike_sorting_network.ipynb\" target=\"_parent\"><img src=\"https://colab.research.google.com/assets/colab-badge.svg\" alt=\"Open In Colab\"/></a>"
      ]
    },
    {
      "cell_type": "code",
      "metadata": {
        "id": "OiiIaobdN5Vr"
      },
      "source": [
        "extrema_url = 'https://github.com/abuzarmahmood/neuRecommend/blob/master/test_data/spikes_extrema.npy?raw=true'\n",
        "labels_url = 'https://github.com/abuzarmahmood/neuRecommend/blob/master/test_data/spikes_is_nrn.npy?raw=true'\n",
        "waveforms_url = 'https://github.com/abuzarmahmood/neuRecommend/blob/master/test_data/spikes_8bit.npy?raw=true'\n"
      ],
      "execution_count": null,
      "outputs": []
    }
  ]
}