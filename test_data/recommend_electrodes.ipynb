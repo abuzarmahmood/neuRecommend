{
 "cells": [
  {
   "cell_type": "markdown",
   "metadata": {},
   "source": [
    "Use model trained in classify_spikes.py to recommend electrodes to sort <br>\n",
    "Recommendations should err on side of more false positives (high recall) if needed\n",
    "so as not to miss electrodes"
   ]
  },
  {
   "cell_type": "code",
   "execution_count": 28,
   "metadata": {},
   "outputs": [],
   "source": [
    "import os\n",
    "from time import time\n",
    "import re\n",
    "import sys\n",
    "import json\n",
    "\n",
    "import tables\n",
    "import numpy as np\n",
    "import pylab as plt\n",
    "import pandas as pd\n",
    "from joblib import dump, load\n",
    "import xgboost as xgb\n",
    "from tqdm import tqdm\n",
    "from sklearn.metrics import recall_score, confusion_matrix"
   ]
  },
  {
   "cell_type": "code",
   "execution_count": 4,
   "metadata": {},
   "outputs": [],
   "source": [
    "# Load paths\n",
    "with open('path_vars.json','r') as path_file:\n",
    "    path_vars = json.load(path_file)\n",
    "\n",
    "h5_path = path_vars['h5_path'] # Path to HDF5 file where waveform data is stored\n",
    "model_save_dir = path_vars['model_save_dir'] # Directory in which trained model will be saved\n",
    "ephys_module_path = path_vars['ephys_module_path'] # Directory with ephys module code\n",
    "waveform_file_path = path_vars['waveform_file_path'] # Directory containing file with wanted waveform file paths\n",
    "\n",
    "sys.path.append(ephys_module_path)\n",
    "from ephys_data import ephys_data"
   ]
  },
  {
   "cell_type": "code",
   "execution_count": null,
   "metadata": {},
   "outputs": [],
   "source": [
    "# Load classifier pipeline\n",
    "clf = load(os.path.join(model_save_dir, 'xgb_pipeline'))"
   ]
  },
  {
   "cell_type": "code",
   "execution_count": 33,
   "metadata": {},
   "outputs": [],
   "source": [
    "# # Get details for files containing waveforms\n",
    "# waveform_file_list = [x.strip()\n",
    "#                       for x in open(waveform_file_path, 'r').readlines()]\n",
    "# waveform_basename_list = [x.split('/')[-4] for x in waveform_file_list]\n",
    "# waveform_elec_list = [re.findall('\\d+', x.split('/')[-2])[0]\n",
    "#                       for x in waveform_file_list]\n",
    "# waveform_data_dir = [\"/\".join(x.split('/')[:-3]) for x in waveform_file_list]"
   ]
  },
  {
   "cell_type": "code",
   "execution_count": 9,
   "metadata": {},
   "outputs": [],
   "source": [
    "# # Compile details into pandas frame\n",
    "# path_frame = pd.DataFrame({\n",
    "#     'path': waveform_file_list,\n",
    "#     'basename': waveform_basename_list,\n",
    "#     'data_dir': waveform_data_dir,\n",
    "#     'electrode': waveform_elec_list})\n",
    "# path_frame.electrode = path_frame.electrode.astype('int32')\n",
    "# unique_frame = path_frame.drop_duplicates('data_dir')"
   ]
  },
  {
   "cell_type": "code",
   "execution_count": 22,
   "metadata": {},
   "outputs": [],
   "source": [
    "# # Find out whether each electrode contains a sorted neuron or not\n",
    "# pos_frames = []\n",
    "# for this_dir in unique_frame.data_dir:\n",
    "#     dat = ephys_data(this_dir)\n",
    "#     dat.get_region_units()\n",
    "#     pos_electrodes = np.unique([x[1] for x in dat.unit_descriptors])\n",
    "#     this_frame = pd.DataFrame({\n",
    "#         'data_dir': this_dir,\n",
    "#         'electrode': pos_electrodes,\n",
    "#         'unit': True})\n",
    "#     pos_frames.append(this_frame)\n",
    "\n",
    "# fin_pos_frame = pd.concat(pos_frames)\n",
    "\n",
    "# path_frame = path_frame.merge(fin_pos_frame, how='outer')\n",
    "# path_frame.fillna(False, inplace=True)\n",
    "# path_frame['electrode_str'] = [f'{x:02}' for x in path_frame.electrode]\n",
    "\n",
    "# path_frame['array_name'] = path_frame.basename + '_elec' +\\\n",
    "#     path_frame.electrode_str"
   ]
  },
  {
   "cell_type": "code",
   "execution_count": null,
   "metadata": {},
   "outputs": [],
   "source": [
    "# # For each electrode, calculate class probabilities and save in dataframe\n",
    "# path_frame['proba'] = None\n",
    "# for num, path in tqdm(enumerate(path_frame.path)):\n",
    "#    x = np.load(path)\n",
    "#    if x.shape[1] == 75:\n",
    "#        proba = clf.predict_proba(x)\n",
    "#    elif x.shape[1] == 750:\n",
    "#        x_temp = x[:,::10]\n",
    "#        proba = clf.predict_proba(x_temp)\n",
    "#    else:\n",
    "#        proba = np.nan\n",
    "#    path_frame['proba'].loc[num] = proba\n",
    "\n",
    "# Save frame to avoid having to calculate proba again\n",
    "# path_frame.to_pickle(os.path.join(model_save_dir,'path_frame.pkl'))"
   ]
  },
  {
   "cell_type": "code",
   "execution_count": 23,
   "metadata": {},
   "outputs": [],
   "source": [
    "# Load path_frame instead of recalculating everything\n",
    "path_frame = pd.read_pickle(os.path.join(model_save_dir, 'path_frame.pkl'))"
   ]
  },
  {
   "cell_type": "code",
   "execution_count": 25,
   "metadata": {},
   "outputs": [
    {
     "data": {
      "text/plain": [
       "(0.0, 1.0)"
      ]
     },
     "execution_count": 25,
     "metadata": {},
     "output_type": "execute_result"
    },
    {
     "data": {
      "image/png": "[encoded data removed]",
      "text/plain": [
       "<Figure size 432x288 with 1 Axes>"
      ]
     },
     "metadata": {
      "needs_background": "light"
     },
     "output_type": "display_data"
    }
   ],
   "source": [
    "# Calculate and plot fraction of channels/dataset containing sorted neurons\n",
    "mean_unit_frac = path_frame.groupby('basename').agg({'unit': 'mean'})['unit']\n",
    "\n",
    "cmap = plt.get_cmap('tab10')\n",
    "plt.hist(mean_unit_frac, alpha=0.5, bins=15, color=cmap(0))\n",
    "plt.hist(mean_unit_frac, histtype='step', bins=15, color=cmap(0),\n",
    "         linewidth=2)\n",
    "plt.axvline(np.median(mean_unit_frac), color='red', alpha=0.7,\n",
    "            linewidth=2, label='Median Fraction', linestyle='--')\n",
    "plt.legend()\n",
    "plt.xlabel('Fraction of channels/dataset with neurons')\n",
    "plt.ylabel('Frequency')\n",
    "plt.xlim([0, 1])"
   ]
  },
  {
   "cell_type": "code",
   "execution_count": 32,
   "metadata": {},
   "outputs": [
    {
     "name": "stdout",
     "output_type": "stream",
     "text": [
      "Recall given current threshold : 0.9896265560165975\n",
      "True negatives given current threshold : 0.41467676179382645\n"
     ]
    }
   ],
   "source": [
    "# We want atleast 2000 waveforms to want to look at an electrodes\n",
    "unit_vec = path_frame.unit.to_numpy() # True label : whether a channel had a sorted neuron\n",
    "proba_vec = path_frame.proba.to_numpy() # Predicted label : for each waveform for each channel\n",
    "\n",
    "fin_proba_vec = [x[:, 1] for x in proba_vec] # Only interested in probability of class 1 = Spike\n",
    "pred_spike_count = [np.sum(x > 0.18) for x in fin_proba_vec] # Apply threshold from \"classify_spikes\"\n",
    "rec_channel_vec = np.array(pred_spike_count) > 2000 # We want at least 2000 predicted true per channel, otherwise ignore channel\n",
    "\n",
    "############################33\n",
    "# Calculate classification stats\n",
    "\n",
    "recall = recall_score(unit_vec, rec_channel_vec)\n",
    "# Given no neuron, how many channels did we correctly throw out\n",
    "true_negative = confusion_matrix(unit_vec, rec_channel_vec, normalize='all')[0,0]\n",
    "\n",
    "print(f'Recall given current threshold : {recall}')\n",
    "print(f'True negatives given current threshold : {true_negative}')"
   ]
  }
 ],
 "metadata": {
  "kernelspec": {
   "display_name": "Python 3 (ipykernel)",
   "language": "python",
   "name": "python3"
  },
  "language_info": {
   "codemirror_mode": {
    "name": "ipython",
    "version": 3
   },
   "file_extension": ".py",
   "mimetype": "text/x-python",
   "name": "python",
   "nbconvert_exporter": "python",
   "pygments_lexer": "ipython3",
   "version": "3.6.13"
  }
 },
 "nbformat": 4,
 "nbformat_minor": 4
}
